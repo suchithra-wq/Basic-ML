{
  "nbformat": 4,
  "nbformat_minor": 0,
  "metadata": {
    "colab": {
      "name": "Untitled1.ipynb",
      "provenance": [],
      "authorship_tag": "ABX9TyOw9TUlm0fj7SEarIEUjA1u",
      "include_colab_link": true
    },
    "kernelspec": {
      "name": "python3",
      "display_name": "Python 3"
    },
    "language_info": {
      "name": "python"
    }
  },
  "cells": [
    {
      "cell_type": "markdown",
      "metadata": {
        "id": "view-in-github",
        "colab_type": "text"
      },
      "source": [
        "<a href=\"https://colab.research.google.com/github/suchithra-wq/Basic-ML/blob/main/Untitled1.ipynb\" target=\"_parent\"><img src=\"https://colab.research.google.com/assets/colab-badge.svg\" alt=\"Open In Colab\"/></a>"
      ]
    },
    {
      "cell_type": "code",
      "metadata": {
        "colab": {
          "base_uri": "https://localhost:8080/"
        },
        "id": "x89ZfV0mEJLF",
        "outputId": "aece3c52-2900-4c25-e5f8-f8a6cb2f1cdd"
      },
      "source": [
        "#this program adds two numbers \n",
        "a=3.4 #first number we given as a \n",
        "b=4.5 #second number we given as b\n",
        "#add two numbers \n",
        "sum=a+b\n",
        "#display the sum \n",
        "print(sum)\n",
        "\n"
      ],
      "execution_count": 5,
      "outputs": [
        {
          "output_type": "stream",
          "text": [
            "7.9\n"
          ],
          "name": "stdout"
        }
      ]
    },
    {
      "cell_type": "code",
      "metadata": {
        "colab": {
          "base_uri": "https://localhost:8080/"
        },
        "id": "YQ6mg17fFxjT",
        "outputId": "505445a9-03f5-406a-85bf-7a7147324224"
      },
      "source": [
        "#python program to find largest of to numbers \n",
        "a=float(input(3))\n",
        "b=float(input(4))\n",
        "if(a>b):\n",
        "  print(\"a is greater than b\")\n",
        "elif(b>a):\n",
        "  print(\"b is greater than a\")\n",
        "else:\n",
        "  print(\"print both a and b are equal\")\n"
      ],
      "execution_count": 6,
      "outputs": [
        {
          "output_type": "stream",
          "text": [
            "33\n",
            "44\n",
            "b is greater than a\n"
          ],
          "name": "stdout"
        }
      ]
    },
    {
      "cell_type": "code",
      "metadata": {
        "colab": {
          "base_uri": "https://localhost:8080/"
        },
        "id": "TGjSpvhhIeLE",
        "outputId": "6482accc-c93c-4e05-9105-335948f6d933"
      },
      "source": [
        "#this program print hello,world\n",
        "print(\"hello'world\")"
      ],
      "execution_count": 7,
      "outputs": [
        {
          "output_type": "stream",
          "text": [
            "hello'world\n"
          ],
          "name": "stdout"
        }
      ]
    }
  ]
}